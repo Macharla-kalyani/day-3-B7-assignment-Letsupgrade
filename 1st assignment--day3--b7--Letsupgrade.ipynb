{
 "cells": [
  {
   "cell_type": "code",
   "execution_count": 17,
   "metadata": {},
   "outputs": [
    {
     "name": "stdout",
     "output_type": "stream",
     "text": [
      "enter the altitude of plane-------1000\n",
      "Safe to land\n",
      "enter the altitude of plane-------4500\n",
      "Bring Down to 1000\n",
      "enter the altitude of plane-------6500\n",
      "Turn Around\n"
     ]
    }
   ],
   "source": [
    "\n",
    "for i in range(1,4) :\n",
    "    a=input(\"enter the altitude of plane-------\")\n",
    "    alt=int(a)\n",
    "    if alt <= 1000:\n",
    "        print(\"Safe to land\")\n",
    "    else:\n",
    "        if  1000 < alt and alt < 5000:\n",
    "            print(\"Bring Down to 1000\")\n",
    "        else:\n",
    "            print(\"Turn Around\")\n",
    "    i=i+1        "
   ]
  },
  {
   "cell_type": "code",
   "execution_count": null,
   "metadata": {},
   "outputs": [],
   "source": []
  }
 ],
 "metadata": {
  "kernelspec": {
   "display_name": "Python 3",
   "language": "python",
   "name": "python3"
  },
  "language_info": {
   "codemirror_mode": {
    "name": "ipython",
    "version": 3
   },
   "file_extension": ".py",
   "mimetype": "text/x-python",
   "name": "python",
   "nbconvert_exporter": "python",
   "pygments_lexer": "ipython3",
   "version": "3.7.1"
  }
 },
 "nbformat": 4,
 "nbformat_minor": 2
}
